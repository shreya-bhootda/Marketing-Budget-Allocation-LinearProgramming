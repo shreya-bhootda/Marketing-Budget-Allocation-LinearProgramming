{
 "cells": [
  {
   "cell_type": "markdown",
   "id": "9f2f5bf9",
   "metadata": {},
   "source": [
    "# Marketing Budget Allocation"
   ]
  },
  {
   "cell_type": "code",
   "execution_count": 1,
   "id": "60c3721a",
   "metadata": {},
   "outputs": [],
   "source": [
    "import numpy as np\n",
    "import pandas as pd\n",
    "import gurobipy as gp\n",
    "import matplotlib.pyplot as plt\n",
    "import calendar"
   ]
  },
  {
   "cell_type": "markdown",
   "id": "cb9256f0",
   "metadata": {},
   "source": [
    "**Creating general function for optimizing (Max or Min) based on constraint equations**"
   ]
  },
  {
   "cell_type": "code",
   "execution_count": 2,
   "id": "a6d623ad",
   "metadata": {},
   "outputs": [],
   "source": [
    "def create_model(A, sense, b, obj, opt=gp.GRB.MAXIMIZE):\n",
    "    # creating model\n",
    "    model = gp.Model()\n",
    "\n",
    "    # creating variable an setting the constraints\n",
    "    modx = model.addMVar(A.shape[1])\n",
    "    mod_con = model.addMConstrs(A, modx, sense, b)\n",
    "\n",
    "    # setting the objective function\n",
    "    model.setMObjective(None, obj, 0, sense=opt)\n",
    "\n",
    "    # restricting gurobi logs\n",
    "    model.Params.OutputFlag = 0\n",
    "\n",
    "    # optimizing the function\n",
    "    model.optimize()\n",
    "    \n",
    "    return model"
   ]
  },
  {
   "cell_type": "markdown",
   "id": "599bf4fb",
   "metadata": {},
   "source": [
    "## ROI optimization using first estimates"
   ]
  },
  {
   "cell_type": "markdown",
   "id": "3d376151",
   "metadata": {},
   "source": [
    "Assume that your company is deciding how to spend a marketing budget of $10M.  You work in the marketing department as a data scientist and the chief marketing officer has asked you write a report recommending how to spread this budget among several marketing mediums.  Your department has employed an outside consulting firm to estimate the return on investment (ROI) of each marketing medium under consideration.  The results are in the table below, and also in a CSV attached to this assignment:"
   ]
  },
  {
   "cell_type": "markdown",
   "id": "5fa8b75d",
   "metadata": {},
   "source": [
    "### Reading the CSV File"
   ]
  },
  {
   "cell_type": "code",
   "execution_count": 3,
   "id": "2f6cc6ba",
   "metadata": {},
   "outputs": [
    {
     "data": {
      "text/html": [
       "<div>\n",
       "<style scoped>\n",
       "    .dataframe tbody tr th:only-of-type {\n",
       "        vertical-align: middle;\n",
       "    }\n",
       "\n",
       "    .dataframe tbody tr th {\n",
       "        vertical-align: top;\n",
       "    }\n",
       "\n",
       "    .dataframe thead th {\n",
       "        text-align: right;\n",
       "    }\n",
       "</style>\n",
       "<table border=\"1\" class=\"dataframe\">\n",
       "  <thead>\n",
       "    <tr style=\"text-align: right;\">\n",
       "      <th></th>\n",
       "      <th>Platform</th>\n",
       "      <th>Print</th>\n",
       "      <th>TV</th>\n",
       "      <th>SEO</th>\n",
       "      <th>AdWords</th>\n",
       "      <th>Facebook</th>\n",
       "      <th>LinkedIn</th>\n",
       "      <th>Instagram</th>\n",
       "      <th>Snapchat</th>\n",
       "      <th>Twitter</th>\n",
       "      <th>Email</th>\n",
       "    </tr>\n",
       "  </thead>\n",
       "  <tbody>\n",
       "    <tr>\n",
       "      <th>0</th>\n",
       "      <td>ROI</td>\n",
       "      <td>0.031</td>\n",
       "      <td>0.049</td>\n",
       "      <td>0.024</td>\n",
       "      <td>0.039</td>\n",
       "      <td>0.016</td>\n",
       "      <td>0.024</td>\n",
       "      <td>0.046</td>\n",
       "      <td>0.026</td>\n",
       "      <td>0.033</td>\n",
       "      <td>0.044</td>\n",
       "    </tr>\n",
       "    <tr>\n",
       "      <th>1</th>\n",
       "      <td>Second Firms ROI Estimate</td>\n",
       "      <td>0.049</td>\n",
       "      <td>0.023</td>\n",
       "      <td>0.024</td>\n",
       "      <td>0.039</td>\n",
       "      <td>0.044</td>\n",
       "      <td>0.046</td>\n",
       "      <td>0.026</td>\n",
       "      <td>0.019</td>\n",
       "      <td>0.037</td>\n",
       "      <td>0.026</td>\n",
       "    </tr>\n",
       "  </tbody>\n",
       "</table>\n",
       "</div>"
      ],
      "text/plain": [
       "                    Platform  Print     TV    SEO  AdWords  Facebook  \\\n",
       "0                        ROI  0.031  0.049  0.024    0.039     0.016   \n",
       "1  Second Firms ROI Estimate  0.049  0.023  0.024    0.039     0.044   \n",
       "\n",
       "   LinkedIn  Instagram  Snapchat  Twitter  Email  \n",
       "0     0.024      0.046     0.026    0.033  0.044  \n",
       "1     0.046      0.026     0.019    0.037  0.026  "
      ]
     },
     "execution_count": 3,
     "metadata": {},
     "output_type": "execute_result"
    }
   ],
   "source": [
    "# reading the ROI data from two different firms\n",
    "roi_df = pd.read_csv('ROI_data.csv')\n",
    "\n",
    "# creating numpy array for model usage\n",
    "roi = roi_df[roi_df['Platform'] == 'ROI'].values[0, 1:]\n",
    "second_roi = roi_df[roi_df['Platform'] != 'ROI'].values[0, 1:]\n",
    "\n",
    "# Reading Actual Monthly ROI\n",
    "actual_roi = pd.read_csv('roi_mat.csv')\n",
    "\n",
    "# variable for total budget\n",
    "total_budget = 10000000\n",
    "\n",
    "roi_df"
   ]
  },
  {
   "cell_type": "markdown",
   "id": "6277af73",
   "metadata": {},
   "source": [
    "On top of these ROIs, your boss has decided to constrain your budget as follows:\n",
    "1.\tThe amount invested in print and TV should be no more than the amount spent on Facebook and Email. Surprisingly, email seems to be a great channel for reaching real people.\n",
    "2.\tThe total amount used in social media (Facebook, LinkedIn, Instagram, Snapchat, and Twitter) should be at least twice of SEO and AdWords.\n",
    "3.\tFor each platform, the amount invested should be no more than $3M.\n"
   ]
  },
  {
   "cell_type": "markdown",
   "id": "500f1f9a",
   "metadata": {},
   "source": [
    "Assuming the ROI of each platform as $c_i$ for $ i \\in [0, 9]$\n",
    "We try to maximise the overall ROI from differnet platforms based on a budget allocation, which can be represented as below - \n",
    "$$ z = TotalBudget * \\Sigma  (x_i * c_i)$$"
   ]
  },
  {
   "cell_type": "code",
   "execution_count": 4,
   "id": "362de46b",
   "metadata": {},
   "outputs": [],
   "source": [
    "# initializing constraint matrix and constraint limit and directions\n",
    "A = np.zeros((13, 10))\n",
    "b = np.zeros(13)\n",
    "sense = ['']*13\n",
    "\n",
    "# Constraint 1:\n",
    "# total_budget*(x_0 + x_1) - total_budget*(x_4 + x_9) <= 0\n",
    "A[0, 0] = 1\n",
    "A[0, 1] = 1\n",
    "A[0, 4] = -1\n",
    "A[0, 9] = -1\n",
    "b[0] = 0\n",
    "sense[0] = '<'\n",
    "\n",
    "# Constraint 2:\n",
    "# total_budget*(x_4 + x_5 + x_6 + x_7 + x_8) - 2*total_budget*(x_2 + x_3) >= 0\n",
    "A[1, 4:9] = 1\n",
    "A[1, 2:4] = -2\n",
    "b[1] = 0\n",
    "sense[1] = '>'"
   ]
  },
  {
   "cell_type": "code",
   "execution_count": 5,
   "id": "ae97b1df",
   "metadata": {},
   "outputs": [
    {
     "data": {
      "text/plain": [
       "(array([[ 1.,  1.,  0.,  0., -1.,  0.,  0.,  0.,  0., -1.],\n",
       "        [ 0.,  0., -2., -2.,  1.,  1.,  1.,  1.,  1.,  0.],\n",
       "        [ 1.,  0.,  0.,  0.,  0.,  0.,  0.,  0.,  0.,  0.],\n",
       "        [ 0.,  1.,  0.,  0.,  0.,  0.,  0.,  0.,  0.,  0.],\n",
       "        [ 0.,  0.,  1.,  0.,  0.,  0.,  0.,  0.,  0.,  0.],\n",
       "        [ 0.,  0.,  0.,  1.,  0.,  0.,  0.,  0.,  0.,  0.],\n",
       "        [ 0.,  0.,  0.,  0.,  1.,  0.,  0.,  0.,  0.,  0.],\n",
       "        [ 0.,  0.,  0.,  0.,  0.,  1.,  0.,  0.,  0.,  0.],\n",
       "        [ 0.,  0.,  0.,  0.,  0.,  0.,  1.,  0.,  0.,  0.],\n",
       "        [ 0.,  0.,  0.,  0.,  0.,  0.,  0.,  1.,  0.,  0.],\n",
       "        [ 0.,  0.,  0.,  0.,  0.,  0.,  0.,  0.,  1.,  0.],\n",
       "        [ 0.,  0.,  0.,  0.,  0.,  0.,  0.,  0.,  0.,  1.],\n",
       "        [ 1.,  1.,  1.,  1.,  1.,  1.,  1.,  1.,  1.,  1.]]),\n",
       " ['<', '>', '<', '<', '<', '<', '<', '<', '<', '<', '<', '<', '<'],\n",
       " array([0. , 0. , 0.3, 0.3, 0.3, 0.3, 0.3, 0.3, 0.3, 0.3, 0.3, 0.3, 1. ]))"
      ]
     },
     "execution_count": 5,
     "metadata": {},
     "output_type": "execute_result"
    }
   ],
   "source": [
    "# Constraint 3 to 12:\n",
    "# x_i <= 0.3\n",
    "for i in range(10):\n",
    "    A[i+2, i] = 1\n",
    "    b[i+2] = 0.3\n",
    "    sense[i+2] = '<'\n",
    "\n",
    "# Constraint 13:\n",
    "# sum of all x_i <= 1\n",
    "A[12, :] = 1\n",
    "b[12] = 1\n",
    "sense[12] = '<'\n",
    "\n",
    "A, sense, b"
   ]
  },
  {
   "cell_type": "markdown",
   "id": "911797ac",
   "metadata": {},
   "source": [
    "Formulate the marketing budget allocation problem as a linear program.  Use gurobi to find the optimal budget allocation."
   ]
  },
  {
   "cell_type": "code",
   "execution_count": 6,
   "id": "d4bc53d3",
   "metadata": {},
   "outputs": [
    {
     "name": "stdout",
     "output_type": "stream",
     "text": [
      "Academic license - for non-commercial use only - expires 2022-09-18\n",
      "Using license file C:\\Users\\prakh\\gurobi.lic\n"
     ]
    },
    {
     "name": "stderr",
     "output_type": "stream",
     "text": [
      "<ipython-input-6-038dee29a028>:2: DeprecationWarning: Deprecated, use Model.addMConstr() instead\n",
      "  adv_model = create_model(A, sense, b, obj=roi, opt=gp.GRB.MAXIMIZE)\n"
     ]
    }
   ],
   "source": [
    "# creating advertising model for first estimates\n",
    "adv_model = create_model(A, sense, b, obj=roi, opt=gp.GRB.MAXIMIZE)"
   ]
  },
  {
   "cell_type": "code",
   "execution_count": 7,
   "id": "d29e0c35",
   "metadata": {},
   "outputs": [
    {
     "name": "stdout",
     "output_type": "stream",
     "text": [
      "Total ROI from $10000000 marketing budget is 456000 dollars which is 4.56%\n"
     ]
    }
   ],
   "source": [
    "# creating an output df with different firms ROI for Platform allocation\n",
    "output_df = roi_df.T.reset_index()\n",
    "output_df.columns = output_df.iloc[0]\n",
    "output_df = output_df.iloc[1:]\n",
    "\n",
    "# creating new column in output df for budget allocation\n",
    "output_df['Allocation'] = adv_model.x\n",
    "\n",
    "first_firms_roi_pct = round(adv_model.objVal*100,3)\n",
    "first_firms_roi = round(adv_model.objVal*total_budget)\n",
    "print('Total ROI from ${} marketing budget is {} dollars which is {}%'.format(\n",
    "    total_budget, first_firms_roi, first_firms_roi_pct))"
   ]
  },
  {
   "cell_type": "markdown",
   "id": "075de5f3",
   "metadata": {},
   "source": [
    "**Platform wise allocation based on ROI maximisation for the marketing budget is below**"
   ]
  },
  {
   "cell_type": "code",
   "execution_count": 8,
   "id": "8e0a9b50",
   "metadata": {},
   "outputs": [
    {
     "data": {
      "text/html": [
       "<div>\n",
       "<style scoped>\n",
       "    .dataframe tbody tr th:only-of-type {\n",
       "        vertical-align: middle;\n",
       "    }\n",
       "\n",
       "    .dataframe tbody tr th {\n",
       "        vertical-align: top;\n",
       "    }\n",
       "\n",
       "    .dataframe thead th {\n",
       "        text-align: right;\n",
       "    }\n",
       "</style>\n",
       "<table border=\"1\" class=\"dataframe\">\n",
       "  <thead>\n",
       "    <tr style=\"text-align: right;\">\n",
       "      <th></th>\n",
       "      <th>Platform</th>\n",
       "      <th>Allocation</th>\n",
       "    </tr>\n",
       "  </thead>\n",
       "  <tbody>\n",
       "    <tr>\n",
       "      <th>1</th>\n",
       "      <td>Print</td>\n",
       "      <td>0.0</td>\n",
       "    </tr>\n",
       "    <tr>\n",
       "      <th>2</th>\n",
       "      <td>TV</td>\n",
       "      <td>0.3</td>\n",
       "    </tr>\n",
       "    <tr>\n",
       "      <th>3</th>\n",
       "      <td>SEO</td>\n",
       "      <td>0.0</td>\n",
       "    </tr>\n",
       "    <tr>\n",
       "      <th>4</th>\n",
       "      <td>AdWords</td>\n",
       "      <td>0.1</td>\n",
       "    </tr>\n",
       "    <tr>\n",
       "      <th>5</th>\n",
       "      <td>Facebook</td>\n",
       "      <td>0.0</td>\n",
       "    </tr>\n",
       "    <tr>\n",
       "      <th>6</th>\n",
       "      <td>LinkedIn</td>\n",
       "      <td>0.0</td>\n",
       "    </tr>\n",
       "    <tr>\n",
       "      <th>7</th>\n",
       "      <td>Instagram</td>\n",
       "      <td>0.3</td>\n",
       "    </tr>\n",
       "    <tr>\n",
       "      <th>8</th>\n",
       "      <td>Snapchat</td>\n",
       "      <td>0.0</td>\n",
       "    </tr>\n",
       "    <tr>\n",
       "      <th>9</th>\n",
       "      <td>Twitter</td>\n",
       "      <td>0.0</td>\n",
       "    </tr>\n",
       "    <tr>\n",
       "      <th>10</th>\n",
       "      <td>Email</td>\n",
       "      <td>0.3</td>\n",
       "    </tr>\n",
       "  </tbody>\n",
       "</table>\n",
       "</div>"
      ],
      "text/plain": [
       "0    Platform  Allocation\n",
       "1       Print         0.0\n",
       "2          TV         0.3\n",
       "3         SEO         0.0\n",
       "4     AdWords         0.1\n",
       "5    Facebook         0.0\n",
       "6    LinkedIn         0.0\n",
       "7   Instagram         0.3\n",
       "8    Snapchat         0.0\n",
       "9     Twitter         0.0\n",
       "10      Email         0.3"
      ]
     },
     "execution_count": 8,
     "metadata": {},
     "output_type": "execute_result"
    }
   ],
   "source": [
    "output_df[['Platform', 'Allocation']]"
   ]
  },
  {
   "cell_type": "markdown",
   "id": "d445ccef",
   "metadata": {},
   "source": [
    "Your boss is happy to see the promising results presented by the marketing department. However, your boss is also very concerned because your boss recalls being somewhat disappointed after following such recommendations in the past. To be cautious about the decision, your team has decided to get another opinion about the ROI data and rerun the analysis.  The second consulting firm returns the estimates of the ROI data in the table below (also in the CSV file mentioned above).  You are asked to compare the two optimal allocations from these two ROI estimates.  "
   ]
  },
  {
   "cell_type": "markdown",
   "id": "98646ad9",
   "metadata": {},
   "source": [
    "## ROI optimization using second firm's estimates"
   ]
  },
  {
   "cell_type": "code",
   "execution_count": 9,
   "id": "1a8af89c",
   "metadata": {},
   "outputs": [
    {
     "name": "stdout",
     "output_type": "stream",
     "text": [
      "Total ROI from $10000000 marketing budget is 456000 dollars which is 4.56%\n"
     ]
    },
    {
     "name": "stderr",
     "output_type": "stream",
     "text": [
      "<ipython-input-9-67328d0cacd2>:2: DeprecationWarning: Deprecated, use Model.addMConstr() instead\n",
      "  adv_model2 = create_model(A, sense, b, obj=second_roi, opt=gp.GRB.MAXIMIZE)\n"
     ]
    }
   ],
   "source": [
    "# creating advertising model for second estimates\n",
    "adv_model2 = create_model(A, sense, b, obj=second_roi, opt=gp.GRB.MAXIMIZE)\n",
    "# creating new column in output df for budget allocation\n",
    "output_df['Second Allocation'] = adv_model2.x\n",
    "\n",
    "second_firms_roi_pct = round(adv_model2.objVal*100,3)\n",
    "second_firms_roi = round(adv_model2.objVal*total_budget)\n",
    "print('Total ROI from ${} marketing budget is {} dollars which is {}%'.format(\n",
    "    total_budget, second_firms_roi, second_firms_roi_pct))"
   ]
  },
  {
   "cell_type": "markdown",
   "id": "a60bf1b8",
   "metadata": {},
   "source": [
    "**Platform wise allocation based on ROI maximisation using second ROI for the marketing budget is below**"
   ]
  },
  {
   "cell_type": "code",
   "execution_count": 10,
   "id": "0df01b13",
   "metadata": {},
   "outputs": [
    {
     "data": {
      "text/html": [
       "<div>\n",
       "<style scoped>\n",
       "    .dataframe tbody tr th:only-of-type {\n",
       "        vertical-align: middle;\n",
       "    }\n",
       "\n",
       "    .dataframe tbody tr th {\n",
       "        vertical-align: top;\n",
       "    }\n",
       "\n",
       "    .dataframe thead th {\n",
       "        text-align: right;\n",
       "    }\n",
       "</style>\n",
       "<table border=\"1\" class=\"dataframe\">\n",
       "  <thead>\n",
       "    <tr style=\"text-align: right;\">\n",
       "      <th></th>\n",
       "      <th>Platform</th>\n",
       "      <th>Second Allocation</th>\n",
       "    </tr>\n",
       "  </thead>\n",
       "  <tbody>\n",
       "    <tr>\n",
       "      <th>1</th>\n",
       "      <td>Print</td>\n",
       "      <td>0.3</td>\n",
       "    </tr>\n",
       "    <tr>\n",
       "      <th>2</th>\n",
       "      <td>TV</td>\n",
       "      <td>0.0</td>\n",
       "    </tr>\n",
       "    <tr>\n",
       "      <th>3</th>\n",
       "      <td>SEO</td>\n",
       "      <td>0.0</td>\n",
       "    </tr>\n",
       "    <tr>\n",
       "      <th>4</th>\n",
       "      <td>AdWords</td>\n",
       "      <td>0.1</td>\n",
       "    </tr>\n",
       "    <tr>\n",
       "      <th>5</th>\n",
       "      <td>Facebook</td>\n",
       "      <td>0.3</td>\n",
       "    </tr>\n",
       "    <tr>\n",
       "      <th>6</th>\n",
       "      <td>LinkedIn</td>\n",
       "      <td>0.3</td>\n",
       "    </tr>\n",
       "    <tr>\n",
       "      <th>7</th>\n",
       "      <td>Instagram</td>\n",
       "      <td>0.0</td>\n",
       "    </tr>\n",
       "    <tr>\n",
       "      <th>8</th>\n",
       "      <td>Snapchat</td>\n",
       "      <td>0.0</td>\n",
       "    </tr>\n",
       "    <tr>\n",
       "      <th>9</th>\n",
       "      <td>Twitter</td>\n",
       "      <td>0.0</td>\n",
       "    </tr>\n",
       "    <tr>\n",
       "      <th>10</th>\n",
       "      <td>Email</td>\n",
       "      <td>0.0</td>\n",
       "    </tr>\n",
       "  </tbody>\n",
       "</table>\n",
       "</div>"
      ],
      "text/plain": [
       "0    Platform  Second Allocation\n",
       "1       Print                0.3\n",
       "2          TV                0.0\n",
       "3         SEO                0.0\n",
       "4     AdWords                0.1\n",
       "5    Facebook                0.3\n",
       "6    LinkedIn                0.3\n",
       "7   Instagram                0.0\n",
       "8    Snapchat                0.0\n",
       "9     Twitter                0.0\n",
       "10      Email                0.0"
      ]
     },
     "execution_count": 10,
     "metadata": {},
     "output_type": "execute_result"
    }
   ],
   "source": [
    "output_df[['Platform', 'Second Allocation']]"
   ]
  },
  {
   "cell_type": "markdown",
   "id": "650804c2",
   "metadata": {},
   "source": [
    "## Budget allocation and optimal ROI for First firm's vs Second firm's estimates\n",
    "\n",
    "**We found a difference in allocation between the First and Second firm's estimates**\n",
    "\n",
    "Assuming the first ROI data is correct, if you were to use the second allocation (the allocation that assumed the second ROI data was correct) how much lower would the objective be relative to the optimal objective (the one that uses the first ROI data and the first allocation)?  \n",
    "**We found the objective to be lower by 204,000 in this case**\n",
    "\n",
    "Assuming the second ROI data is correct, if you used the first allocation how much lower would the objective be relative to the optimal objective?  \n",
    "**We found the objective to be lower by 192,000 in this case**\n",
    "\n",
    "Do you think the third constraint above, based on your boss’ experience, is useful?"
   ]
  },
  {
   "cell_type": "code",
   "execution_count": 11,
   "id": "ddabc18b",
   "metadata": {},
   "outputs": [
    {
     "name": "stdout",
     "output_type": "stream",
     "text": [
      "204000.0\n",
      "192000.0\n"
     ]
    }
   ],
   "source": [
    "diff1 = round(total_budget*(sum(roi*output_df['Allocation']) - sum(roi*output_df['Second Allocation'])), 2)\n",
    "print(diff1)\n",
    "\n",
    "diff2 = round(total_budget*(sum(second_roi*output_df['Second Allocation']) - sum(second_roi*output_df['Allocation'])), 2)\n",
    "print(diff2)"
   ]
  },
  {
   "cell_type": "code",
   "execution_count": 12,
   "id": "db51b0d4",
   "metadata": {},
   "outputs": [
    {
     "name": "stdout",
     "output_type": "stream",
     "text": [
      "Maximum ROI obtainied using optimized allocation for both firm\"s estimates are same\n"
     ]
    }
   ],
   "source": [
    "if sum(output_df['ROI'] * output_df['Allocation']) == sum(\n",
    "    output_df['Second Firms ROI Estimate'] * output_df['Second Allocation']):\n",
    "    print('Maximum ROI obtainied using optimized allocation for both firm\"s estimates are same')"
   ]
  },
  {
   "cell_type": "markdown",
   "id": "5d4a04d0",
   "metadata": {},
   "source": [
    "**Budge allocation comaprision using first vs second firm's estimate**"
   ]
  },
  {
   "cell_type": "code",
   "execution_count": 13,
   "id": "9002e302",
   "metadata": {},
   "outputs": [
    {
     "data": {
      "image/png": "[encoded data removed]",
      "text/plain": [
       "<Figure size 1120x480 with 1 Axes>"
      ]
     },
     "metadata": {
      "needs_background": "light"
     },
     "output_type": "display_data"
    }
   ],
   "source": [
    "# plotting different firm allocation\n",
    "plt.figure(figsize=(14, 6), dpi=80)\n",
    "allocation_df = output_df.loc[(output_df['Allocation'] > 0) | (output_df['Second Allocation'] > 0) ,\n",
    "                              ['Platform', 'Allocation', 'Second Allocation']]\n",
    "\n",
    "width = 0.3\n",
    "ind = ind = np.arange(len(allocation_df))\n",
    "plt.xticks(ind + width / 2, allocation_df['Platform'])\n",
    "plt.bar(ind, allocation_df['Allocation']*total_budget, label='First firm ROI', width=width)\n",
    "plt.bar(ind + width, allocation_df['Second Allocation']*total_budget, label='Second firm ROI', width=width)\n",
    "\n",
    "plt.xlabel('Platform')\n",
    "plt.ylabel('Allocation')\n",
    "plt.title('Allocation using different firms estimate (allocation zero for rest platforms)')\n",
    "plt.legend()\n",
    "plt.savefig('figure/allocation_for_different_estimates.jpeg')\n",
    "plt.show()"
   ]
  },
  {
   "cell_type": "markdown",
   "id": "39437af0",
   "metadata": {},
   "source": [
    "**Overall ROI comparision**"
   ]
  },
  {
   "cell_type": "code",
   "execution_count": 14,
   "id": "9f89b0d6",
   "metadata": {},
   "outputs": [
    {
     "name": "stderr",
     "output_type": "stream",
     "text": [
      "No handles with labels found to put in legend.\n"
     ]
    },
    {
     "data": {
      "image/png": "[encoded data removed]",
      "text/plain": [
       "<Figure size 432x288 with 1 Axes>"
      ]
     },
     "metadata": {
      "needs_background": "light"
     },
     "output_type": "display_data"
    }
   ],
   "source": [
    "# plotting overall ROI\n",
    "plt.bar(['First Firm', 'Second Firm'], [first_firms_roi, second_firms_roi], width=width)\n",
    "plt.ylabel('Overall ROI')\n",
    "plt.title('ROI post allocation using different firms estimate')\n",
    "plt.legend()\n",
    "plt.savefig('figure/total_roi_for_different_estiamtes.jpeg')\n",
    "plt.show()"
   ]
  },
  {
   "cell_type": "markdown",
   "id": "823ce1da",
   "metadata": {},
   "source": [
    "**Checking the difference in allocation after removing the 3rd constraint**"
   ]
  },
  {
   "cell_type": "code",
   "execution_count": 15,
   "id": "64610da4",
   "metadata": {},
   "outputs": [
    {
     "name": "stdout",
     "output_type": "stream",
     "text": [
      "Total ROI from $10000000 marketing budget is 465000 dollars which is 4.65%\n",
      "Total ROI from $10000000 marketing budget is 465000 dollars which is 4.65%\n"
     ]
    },
    {
     "name": "stderr",
     "output_type": "stream",
     "text": [
      "<ipython-input-15-13f17cccf20e>:6: DeprecationWarning: Deprecated, use Model.addMConstr() instead\n",
      "  adv_model_unconstrained1 = create_model(A, sense, b_unconstrained, obj=roi, opt=gp.GRB.MAXIMIZE)\n",
      "<ipython-input-15-13f17cccf20e>:7: DeprecationWarning: Deprecated, use Model.addMConstr() instead\n",
      "  adv_model_unconstrained2 = create_model(A, sense, b_unconstrained, obj=second_roi, opt=gp.GRB.MAXIMIZE)\n"
     ]
    }
   ],
   "source": [
    "# updating constraint limit vector\n",
    "b_unconstrained = b.copy()\n",
    "b_unconstrained[2:13] = 1\n",
    "\n",
    "# creating the two models\n",
    "adv_model_unconstrained1 = create_model(A, sense, b_unconstrained, obj=roi, opt=gp.GRB.MAXIMIZE)\n",
    "adv_model_unconstrained2 = create_model(A, sense, b_unconstrained, obj=second_roi, opt=gp.GRB.MAXIMIZE)\n",
    "\n",
    "# creating an output df with different firms ROI for Platform allocation\n",
    "output_unconstrained_df = roi_df.T.reset_index()\n",
    "output_unconstrained_df.columns = output_unconstrained_df.iloc[0]\n",
    "output_unconstrained_df = output_unconstrained_df.iloc[1:]\n",
    "\n",
    "# creating new column in output df for budget allocation\n",
    "output_unconstrained_df['Allocation'] = adv_model_unconstrained1.x\n",
    "output_unconstrained_df['Second Allocation'] = adv_model_unconstrained2.x\n",
    "\n",
    "# overall ROI after removing the third constraint\n",
    "first_firms_unconstrained_roi_pct = round(adv_model_unconstrained1.objVal*100,3)\n",
    "first_firms_unconstrained_roi = round(adv_model_unconstrained1.objVal*total_budget)\n",
    "print('Total ROI from ${} marketing budget is {} dollars which is {}%'.format(\n",
    "    total_budget, first_firms_unconstrained_roi, first_firms_unconstrained_roi_pct))\n",
    "\n",
    "second_firms_unconstrained_roi_pct = round(adv_model_unconstrained2.objVal*100,3)\n",
    "second_firms_unconstrained_roi = round(adv_model_unconstrained2.objVal*total_budget)\n",
    "print('Total ROI from ${} marketing budget is {} dollars which is {}%'.format(\n",
    "    total_budget, second_firms_unconstrained_roi, second_firms_unconstrained_roi_pct))"
   ]
  },
  {
   "cell_type": "code",
   "execution_count": 16,
   "id": "486cb7e8",
   "metadata": {},
   "outputs": [
    {
     "data": {
      "image/png": "[encoded data removed]",
      "text/plain": [
       "<Figure size 1120x480 with 1 Axes>"
      ]
     },
     "metadata": {
      "needs_background": "light"
     },
     "output_type": "display_data"
    }
   ],
   "source": [
    "# plotting different firm allocation\n",
    "plt.figure(figsize=(14, 6), dpi=80)\n",
    "allocation_unconstrained_df = output_unconstrained_df.loc[\n",
    "    (output_unconstrained_df['Allocation'] > 0) | (output_unconstrained_df['Second Allocation'] > 0) ,\n",
    "    ['Platform', 'Allocation', 'Second Allocation']]\n",
    "\n",
    "width = 0.3\n",
    "ind = np.arange(len(allocation_unconstrained_df))\n",
    "plt.xticks(ind + width / 2, allocation_unconstrained_df['Platform'])\n",
    "plt.bar(ind, allocation_unconstrained_df['Allocation']*total_budget, label='First firm ROI', width=width)\n",
    "plt.bar(ind + width, allocation_unconstrained_df['Second Allocation']*total_budget, label='Second firm ROI', width=width)\n",
    "\n",
    "plt.xlabel('Platform')\n",
    "plt.ylabel('Allocation')\n",
    "plt.title('Allocation using different firms estimate (allocation zero for rest platforms)')\n",
    "plt.legend()\n",
    "plt.savefig('third_constrained_removed_allocation.jpeg')\n",
    "plt.show()"
   ]
  },
  {
   "cell_type": "markdown",
   "id": "80d8c9b5",
   "metadata": {},
   "source": [
    "**Conclusion -** \n",
    "\n",
    "Optimal allocation obtained via linear optimization from *different firms estimates end up giving the same ROI*. Although the *budget allocation of differnet platforms varies*. The two allocation vary between online platform - one giving more value to *Facebook & Linkedin* while the other to *Instagram & Email*. They also vary between traditional platform *TV vs Print*. Though the allocation for both firms is same for *AdWords*\n",
    "\n",
    "Given the uncertainity in ROI estimates and the objective of maintaining presence over various platforms it makes sense to put the third constraints imposed by the boss. If that constraint is removed, almost all of the budget will be allocated to the platform which gives the highest ROI.\n",
    "If we remove that constraint, for first ROI we get TV & Email as 50-50%, and for second its Print & Facebook."
   ]
  },
  {
   "cell_type": "markdown",
   "id": "fb3c45f4",
   "metadata": {},
   "source": [
    "## Sensitivity analysis"
   ]
  },
  {
   "cell_type": "markdown",
   "id": "b8bbe17e",
   "metadata": {},
   "source": [
    "### Using Manual Approach - For Loop over a set of values incremented by .1%"
   ]
  },
  {
   "cell_type": "markdown",
   "id": "2c8810b1",
   "metadata": {},
   "source": [
    "To explore this further perform some analysis of how your optimal allocation would change based on changes in the ROI data.  Use the first ROI data as your starting point.  By how much could each advertising medium’s ROI increase or decrease and still result in the same optimal allocation you found in step (3)?"
   ]
  },
  {
   "cell_type": "markdown",
   "id": "15005699",
   "metadata": {},
   "source": [
    "**How to perform sensitivity analysis** - \n",
    "\n",
    "* ROI will be modified for each platform one by one without changing it for the other platforms\n",
    "* Optimal Allocation and Objective value will be recorded to identify till it stays the same"
   ]
  },
  {
   "cell_type": "code",
   "execution_count": 17,
   "id": "4d05970b",
   "metadata": {
    "scrolled": false
   },
   "outputs": [
    {
     "name": "stderr",
     "output_type": "stream",
     "text": [
      "<ipython-input-17-906503b596c0>:17: DeprecationWarning: Deprecated, use Model.addMConstr() instead\n",
      "  s_model = create_model(A, sense, b, obj=new_roi, opt=gp.GRB.MAXIMIZE)\n",
      "<ipython-input-17-906503b596c0>:30: DeprecationWarning: Deprecated, use Model.addMConstr() instead\n",
      "  s_model = create_model(A, sense, b, obj=new_roi, opt=gp.GRB.MAXIMIZE)\n"
     ]
    }
   ],
   "source": [
    "# getting first allocation vector for comparision\n",
    "allocation1 = output_df['Allocation'].values\n",
    "# creating senstivity df\n",
    "sensitivity1 = pd.DataFrame(data=None, columns=['Platform', 'ROI', 'Total ROI', 'Allocation'])\n",
    "# looping over for getting optimal allocation\n",
    "for i in range(1, roi_df.shape[1]): \n",
    "    # platform name\n",
    "    platform = roi_df.columns[i]\n",
    "    platform_roi = roi_df[platform].values[0]\n",
    "    # looping over for range in ROI\n",
    "    # print(platform, platform_roi)\n",
    "    s_allocation = allocation1.copy()\n",
    "    new_roi = roi.copy() \n",
    "    # for decreasing the platform ROI\n",
    "    while (np.array_equal(allocation1, s_allocation) & (new_roi[i-1] > 0)):  \n",
    "        new_roi[i-1] -= 0.001\n",
    "        s_model = create_model(A, sense, b, obj=new_roi, opt=gp.GRB.MAXIMIZE)\n",
    "        s_allocation = s_model.x\n",
    "        if np.array_equal(allocation1, s_allocation):\n",
    "            row_len = len(sensitivity1)\n",
    "            sensitivity1.loc[row_len, 'Platform'] = platform\n",
    "            sensitivity1.loc[row_len, 'ROI'] = new_roi[i-1]\n",
    "            sensitivity1.loc[row_len, 'Total ROI'] = s_model.objVal\n",
    "            sensitivity1.loc[row_len, 'Allocation'] = str(s_allocation)  \n",
    "    # for increasing the platform ROI\n",
    "    s_allocation = allocation1.copy()\n",
    "    new_roi = roi.copy()\n",
    "    while (np.array_equal(allocation1, s_allocation) & (new_roi[i-1] < 0.1)):     \n",
    "        new_roi[i-1] += 0.001\n",
    "        s_model = create_model(A, sense, b, obj=new_roi, opt=gp.GRB.MAXIMIZE)\n",
    "        s_allocation = s_model.x\n",
    "        if np.array_equal(allocation1, s_allocation):\n",
    "            row_len = len(sensitivity1)\n",
    "            sensitivity1.loc[row_len, 'Platform'] = platform\n",
    "            sensitivity1.loc[row_len, 'ROI'] = new_roi[i-1]\n",
    "            sensitivity1.loc[row_len, 'Total ROI'] = s_model.objVal\n",
    "            sensitivity1.loc[row_len, 'Allocation'] = str(s_allocation)\n"
   ]
  },
  {
   "cell_type": "code",
   "execution_count": 18,
   "id": "cf865e1c",
   "metadata": {},
   "outputs": [],
   "source": [
    "# assertion check, there could be only one optimal allocation which is the optimal allocation\n",
    "assert sensitivity1[['Allocation']].drop_duplicates().shape[0] == 1\n",
    "del sensitivity1['Allocation']"
   ]
  },
  {
   "cell_type": "code",
   "execution_count": 19,
   "id": "bcac3e76",
   "metadata": {},
   "outputs": [
    {
     "data": {
      "image/png": "[encoded data removed]",
      "text/plain": [
       "<Figure size 1120x480 with 1 Axes>"
      ]
     },
     "metadata": {
      "needs_background": "light"
     },
     "output_type": "display_data"
    }
   ],
   "source": [
    "# creating dict for visualisation\n",
    "sensitivity_agg = sensitivity1.groupby(['Platform']).agg({'ROI':['min', 'max']})\n",
    "sensitivity_agg['Actual ROI'] = roi_df.T.loc[sensitivity_agg.index][0]\n",
    "sensitivity_dict = {}\n",
    "for pf in sensitivity_agg.index:\n",
    "    sensitivity_dict[pf] = tuple(sensitivity_agg.loc[pf, [('ROI', 'min'), ('ROI', 'max')]].values)\n",
    "    \n",
    "\n",
    "# plot size\n",
    "plt.figure(figsize=(14, 6), dpi=80)\n",
    "\n",
    "for i, values in enumerate(sensitivity_dict.values()):\n",
    "    ymin, ymax = values\n",
    "    plt.vlines(i, ymin=ymin, ymax=ymax, lw=10, color='#fe7c31')\n",
    "\n",
    "# plotting the first ROI line\n",
    "plt.plot(np.arange(len(sensitivity_agg)), sensitivity_agg['Actual ROI'])\n",
    "\n",
    "# to illustrate that ranges are properly drawn\n",
    "plt.grid(True)\n",
    "\n",
    "# add ticks \n",
    "plt.xticks(np.arange(0, len(sensitivity_agg)), list(sensitivity_dict.keys()))\n",
    "\n",
    "# adding title and axis names\n",
    "plt.xlabel('Platform')\n",
    "plt.ylabel('ROI')\n",
    "plt.title('Range of ROI without affecting allocations')\n",
    "plt.legend(['ROI estimate', 'ROI range for same allocation'])\n",
    "plt.savefig('figure/sensitivity_analysis.jpeg')\n",
    "plt.show()"
   ]
  },
  {
   "cell_type": "code",
   "execution_count": 20,
   "id": "5666b71b",
   "metadata": {
    "scrolled": false
   },
   "outputs": [
    {
     "data": {
      "image/png": "[encoded data removed]",
      "text/plain": [
       "<Figure size 1120x480 with 1 Axes>"
      ]
     },
     "metadata": {
      "needs_background": "light"
     },
     "output_type": "display_data"
    }
   ],
   "source": [
    "# gathering possible increase/decrease without changing the allocation\n",
    "sensitivity_agg['possible_increase'] = sensitivity_agg[('ROI', 'max')] - sensitivity_agg['Actual ROI']\n",
    "sensitivity_agg['possible_decrease'] = sensitivity_agg['Actual ROI'] - sensitivity_agg[('ROI', 'min')]\n",
    "sensitivity_agg\n",
    "\n",
    "# setting figure size\n",
    "plt.figure(figsize=(14, 6), dpi=80)\n",
    "\n",
    "# plotting the side barplot\n",
    "width = 0.3\n",
    "ind = np.arange(len(sensitivity_agg))\n",
    "plt.xticks(ind + width / 2, sensitivity_agg.index)\n",
    "plt.bar(ind, sensitivity_agg['possible_increase'], label='Increase Possible', width=width)\n",
    "plt.bar(ind + width, sensitivity_agg['possible_decrease'], label='Decrease Possible', width=width)\n",
    "\n",
    "# to illustrate that ranges are properly drawn\n",
    "plt.grid(True)\n",
    "\n",
    "# adding title and axis names\n",
    "plt.xlabel('Platform')\n",
    "plt.ylabel('ROI change')\n",
    "plt.title('Increase in ROI without affecting allocations')\n",
    "plt.legend()\n",
    "plt.savefig('figure/sensitivity_increase_decrease.jpeg')\n",
    "plt.show()"
   ]
  },
  {
   "cell_type": "markdown",
   "id": "d340c947",
   "metadata": {},
   "source": [
    "**Conclusion -**\n",
    "* For Email, Instagram & TV no matter how much we increase the ROI, allocation can be the same (though ROI limit has been set to 10%, upon increasing the limit we still see no change)\n",
    "* For Facebook, LinkedIn, Print, SEO, Snapchat & Twitter no matter how much we decrease the ROI, allocation can still be the same (assuming ROI can not be less than 0%)\n",
    "* Only AdWords is sensitive to any increase or decrease in ROI estimate. In both the case if the change is signficiant the budget allocation can change"
   ]
  },
  {
   "cell_type": "markdown",
   "id": "c4e4d72a",
   "metadata": {},
   "source": [
    "### Sensitivity Analysis using Gurobi"
   ]
  },
  {
   "cell_type": "code",
   "execution_count": 21,
   "id": "dfb84431",
   "metadata": {},
   "outputs": [
    {
     "name": "stderr",
     "output_type": "stream",
     "text": [
      "<ipython-input-21-134024fba84d>:1: DeprecationWarning: Deprecated, use Model.addMConstr() instead\n",
      "  sg_model = create_model(A, sense, b, obj=new_roi, opt=gp.GRB.MAXIMIZE)\n"
     ]
    },
    {
     "data": {
      "image/png": "[encoded data removed]",
      "text/plain": [
       "<Figure size 720x360 with 1 Axes>"
      ]
     },
     "metadata": {
      "needs_background": "light"
     },
     "output_type": "display_data"
    }
   ],
   "source": [
    "sg_model = create_model(A, sense, b, obj=new_roi, opt=gp.GRB.MAXIMIZE)\n",
    "\n",
    "low_bound = sg_model.SAObjLow\n",
    "up_bound = sg_model.SAObjUp\n",
    "\n",
    "labels = ['Print', 'TV', 'SEO', 'AdWords', 'Facebook', 'LinkedIn',\n",
    "       'Instagram', 'Snapchat', 'Twitter', 'Email']\n",
    "\n",
    "l1 = [0 if (x==-np.inf) else x for x in low_bound]\n",
    "l2 = [0.1 if (x==np.inf) else x for x in up_bound]\n",
    "\n",
    "plt.figure(figsize=(10,5))\n",
    "plt.plot(labels,l1,label='Low Bound')\n",
    "plt.plot(labels,l2,label='Upper Bound')\n",
    "plt.plot(labels,roi,label='Actual ROI')\n",
    "plt.fill_between(labels,l1,l2,alpha=0.2)\n",
    "plt.legend()\n",
    "plt.savefig('figure/sensitivity_range_using_gurobi.jpeg')\n",
    "plt.show()"
   ]
  },
  {
   "cell_type": "code",
   "execution_count": 22,
   "id": "2d3f4439",
   "metadata": {},
   "outputs": [
    {
     "data": {
      "image/png": "[encoded data removed]",
      "text/plain": [
       "<Figure size 1008x432 with 1 Axes>"
      ]
     },
     "metadata": {
      "needs_background": "light"
     },
     "output_type": "display_data"
    }
   ],
   "source": [
    "fig = plt.figure(figsize=(14,6))\n",
    "ax = fig.add_axes([0,0,1,1])\n",
    "width = 0.3\n",
    "ind  = np.arange(len(sensitivity_agg))\n",
    "plt.xticks(ind + width / 2, labels)\n",
    "ax.bar(ind,abs(l1-roi),label='Possible Decrease',width = width)\n",
    "ax.bar(ind+width,abs(l2-roi),label='Possible Increase',width = width)\n",
    "plt.grid(True)\n",
    "\n",
    "plt.xlabel('Platform')\n",
    "plt.ylabel('ROI change')\n",
    "plt.title('Increase in ROI without affecting allocations')\n",
    "plt.legend()\n",
    "plt.savefig('figure/sensitivity_increase_decrease_using_gurobi.jpeg')\n",
    "plt.show()"
   ]
  },
  {
   "cell_type": "markdown",
   "id": "1b1847e0",
   "metadata": {},
   "source": [
    "## Monthly incremental allocation & Stable budget"
   ]
  },
  {
   "cell_type": "markdown",
   "id": "d7ab428a",
   "metadata": {},
   "source": [
    "Your boss has gained permission to reinvest half of the return. For example, if the marketing obtains a 4% return in January, the budget of February will be $10M + $10M × 4% × 50% = $10.2M.  The monthly ROI for next year is given in Project1.Rdata. The three constraints given by your boss are still in place for each month.  What is the optimal allocation for each month?"
   ]
  },
  {
   "cell_type": "markdown",
   "id": "3ef990cd",
   "metadata": {},
   "source": [
    "**Assuming Total budget given - $10M, is monthly & using ROI from first firm**"
   ]
  },
  {
   "cell_type": "code",
   "execution_count": 23,
   "id": "17f9cb51",
   "metadata": {
    "scrolled": true
   },
   "outputs": [],
   "source": [
    "# creating monthly budget var to be updated every month\n",
    "monthly_budget = [0]*13\n",
    "monthly_budget[0] = total_budget\n",
    "months = np.arange(1, 13)\n",
    "month_name = [calendar.month_name[m] + ' ' + 'Allocation' for m in months]\n",
    "\n",
    "# reading actual roi monthly data\n",
    "actual_roi = pd.read_csv('roi_mat.csv')\n",
    "\n",
    "# creating output df\n",
    "monthly_allocation_df = pd.DataFrame(data=None, columns=(['Platform'] + month_name))\n",
    "monthly_allocation_df['Platform'] = output_df['Platform']                        "
   ]
  },
  {
   "cell_type": "code",
   "execution_count": 24,
   "id": "e29a76e7",
   "metadata": {},
   "outputs": [
    {
     "name": "stderr",
     "output_type": "stream",
     "text": [
      "<ipython-input-24-78b71cf2e136>:10: DeprecationWarning: Deprecated, use Model.addMConstr() instead\n",
      "  adv_month_model = create_model(A, sense, b_monthly, obj=roi, opt=gp.GRB.MAXIMIZE)\n"
     ]
    }
   ],
   "source": [
    "# calculating allocation for every month\n",
    "for m in months:\n",
    "    \n",
    "    # updating constraint for varying monthly budget\n",
    "    b_monthly = b.copy()\n",
    "    for i in range(10):\n",
    "        b_monthly[i+2] = 0.3*total_budget/monthly_budget[m-1]\n",
    "\n",
    "    # creating the model and storing in output dataframe\n",
    "    adv_month_model = create_model(A, sense, b_monthly, obj=roi, opt=gp.GRB.MAXIMIZE)\n",
    "    monthly_allocation_df.iloc[:, m] = adv_month_model.x \n",
    "    monthly_allocation_df.iloc[:, m] =  monthly_allocation_df.iloc[:, m] * monthly_budget[m-1]\n",
    "    \n",
    "    # updating budget\n",
    "    additional_budget = sum(monthly_allocation_df.iloc[:, m] * actual_roi.T.iloc[1:, m-1].values)/100 * 0.5\n",
    "    monthly_budget[m] = monthly_budget[m-1] + additional_budget\n"
   ]
  },
  {
   "cell_type": "code",
   "execution_count": 25,
   "id": "8c0beadd",
   "metadata": {},
   "outputs": [
    {
     "data": {
      "image/png": "[encoded data removed]",
      "text/plain": [
       "<Figure size 1008x432 with 1 Axes>"
      ]
     },
     "metadata": {
      "needs_background": "light"
     },
     "output_type": "display_data"
    }
   ],
   "source": [
    "# plotting each months budget\n",
    "plt.figure(figsize=(14, 6))\n",
    "plt.plot(monthly_allocation_df.columns[1:].str.replace('Allocation',''), monthly_budget[:-1])\n",
    "\n",
    "# adding title and axis names\n",
    "plt.xlabel('Month')\n",
    "plt.ylabel('Monthly Budget')\n",
    "plt.title('M-o-M increase in budget')\n",
    "plt.savefig('figure/mom_increase.jpeg')\n",
    "plt.show()"
   ]
  },
  {
   "cell_type": "markdown",
   "id": "05d3bfe4",
   "metadata": {},
   "source": [
    "A *stable budget* is defined as a monthly allocation such that for each platform the monthly change in spend is no more than $1M. Is the allocation you found stable? If it isn’t, you do not need to solve a new optimization model.  Describe how my might model this?"
   ]
  },
  {
   "cell_type": "code",
   "execution_count": 27,
   "id": "104b25c6",
   "metadata": {},
   "outputs": [
    {
     "data": {
      "text/html": [
       "<div>\n",
       "<style scoped>\n",
       "    .dataframe tbody tr th:only-of-type {\n",
       "        vertical-align: middle;\n",
       "    }\n",
       "\n",
       "    .dataframe tbody tr th {\n",
       "        vertical-align: top;\n",
       "    }\n",
       "\n",
       "    .dataframe thead th {\n",
       "        text-align: right;\n",
       "    }\n",
       "</style>\n",
       "<table border=\"1\" class=\"dataframe\">\n",
       "  <thead>\n",
       "    <tr style=\"text-align: right;\">\n",
       "      <th></th>\n",
       "      <th>1</th>\n",
       "      <th>2</th>\n",
       "      <th>3</th>\n",
       "      <th>4</th>\n",
       "      <th>5</th>\n",
       "      <th>6</th>\n",
       "      <th>7</th>\n",
       "      <th>8</th>\n",
       "      <th>9</th>\n",
       "      <th>10</th>\n",
       "    </tr>\n",
       "  </thead>\n",
       "  <tbody>\n",
       "    <tr>\n",
       "      <th>Platform</th>\n",
       "      <td>Print</td>\n",
       "      <td>TV</td>\n",
       "      <td>SEO</td>\n",
       "      <td>AdWords</td>\n",
       "      <td>Facebook</td>\n",
       "      <td>LinkedIn</td>\n",
       "      <td>Instagram</td>\n",
       "      <td>Snapchat</td>\n",
       "      <td>Twitter</td>\n",
       "      <td>Email</td>\n",
       "    </tr>\n",
       "    <tr>\n",
       "      <th>January Allocation</th>\n",
       "      <td>0.0</td>\n",
       "      <td>3000000.0</td>\n",
       "      <td>0.0</td>\n",
       "      <td>1000000.0</td>\n",
       "      <td>0.0</td>\n",
       "      <td>0.0</td>\n",
       "      <td>3000000.0</td>\n",
       "      <td>0.0</td>\n",
       "      <td>0.0</td>\n",
       "      <td>3000000.0</td>\n",
       "    </tr>\n",
       "    <tr>\n",
       "      <th>February Allocation</th>\n",
       "      <td>0.0</td>\n",
       "      <td>3000000.0</td>\n",
       "      <td>0.0</td>\n",
       "      <td>1180000.0</td>\n",
       "      <td>0.0</td>\n",
       "      <td>0.0</td>\n",
       "      <td>3000000.0</td>\n",
       "      <td>0.0</td>\n",
       "      <td>0.0</td>\n",
       "      <td>3000000.0</td>\n",
       "    </tr>\n",
       "    <tr>\n",
       "      <th>March Allocation</th>\n",
       "      <td>0.0</td>\n",
       "      <td>3000000.0</td>\n",
       "      <td>0.0</td>\n",
       "      <td>1353920.0</td>\n",
       "      <td>0.0</td>\n",
       "      <td>0.0</td>\n",
       "      <td>3000000.0</td>\n",
       "      <td>0.0</td>\n",
       "      <td>0.0</td>\n",
       "      <td>3000000.0</td>\n",
       "    </tr>\n",
       "    <tr>\n",
       "      <th>April Allocation</th>\n",
       "      <td>0.0</td>\n",
       "      <td>3000000.0</td>\n",
       "      <td>0.0</td>\n",
       "      <td>1505381.493333</td>\n",
       "      <td>0.0</td>\n",
       "      <td>0.0</td>\n",
       "      <td>3000000.0</td>\n",
       "      <td>0.0</td>\n",
       "      <td>10762.986667</td>\n",
       "      <td>3000000.0</td>\n",
       "    </tr>\n",
       "    <tr>\n",
       "      <th>May Allocation</th>\n",
       "      <td>0.0</td>\n",
       "      <td>3000000.0</td>\n",
       "      <td>0.0</td>\n",
       "      <td>1564985.535538</td>\n",
       "      <td>0.0</td>\n",
       "      <td>0.0</td>\n",
       "      <td>3000000.0</td>\n",
       "      <td>0.0</td>\n",
       "      <td>129971.071076</td>\n",
       "      <td>3000000.0</td>\n",
       "    </tr>\n",
       "    <tr>\n",
       "      <th>June Allocation</th>\n",
       "      <td>0.0</td>\n",
       "      <td>3000000.0</td>\n",
       "      <td>0.0</td>\n",
       "      <td>1629828.569939</td>\n",
       "      <td>0.0</td>\n",
       "      <td>0.0</td>\n",
       "      <td>3000000.0</td>\n",
       "      <td>0.0</td>\n",
       "      <td>259657.139878</td>\n",
       "      <td>3000000.0</td>\n",
       "    </tr>\n",
       "    <tr>\n",
       "      <th>July Allocation</th>\n",
       "      <td>0.0</td>\n",
       "      <td>3000000.0</td>\n",
       "      <td>0.0</td>\n",
       "      <td>1699708.760388</td>\n",
       "      <td>0.0</td>\n",
       "      <td>0.0</td>\n",
       "      <td>3000000.0</td>\n",
       "      <td>0.0</td>\n",
       "      <td>399417.520776</td>\n",
       "      <td>3000000.0</td>\n",
       "    </tr>\n",
       "    <tr>\n",
       "      <th>August Allocation</th>\n",
       "      <td>0.0</td>\n",
       "      <td>3000000.0</td>\n",
       "      <td>0.0</td>\n",
       "      <td>1773336.074769</td>\n",
       "      <td>0.0</td>\n",
       "      <td>0.0</td>\n",
       "      <td>3000000.0</td>\n",
       "      <td>0.0</td>\n",
       "      <td>546672.149538</td>\n",
       "      <td>3000000.0</td>\n",
       "    </tr>\n",
       "    <tr>\n",
       "      <th>September Allocation</th>\n",
       "      <td>0.0</td>\n",
       "      <td>3000000.0</td>\n",
       "      <td>0.0</td>\n",
       "      <td>1845758.356389</td>\n",
       "      <td>0.0</td>\n",
       "      <td>0.0</td>\n",
       "      <td>3000000.0</td>\n",
       "      <td>0.0</td>\n",
       "      <td>691516.712778</td>\n",
       "      <td>3000000.0</td>\n",
       "    </tr>\n",
       "    <tr>\n",
       "      <th>October Allocation</th>\n",
       "      <td>0.0</td>\n",
       "      <td>3000000.0</td>\n",
       "      <td>0.0</td>\n",
       "      <td>1908288.776302</td>\n",
       "      <td>0.0</td>\n",
       "      <td>0.0</td>\n",
       "      <td>3000000.0</td>\n",
       "      <td>0.0</td>\n",
       "      <td>816577.552605</td>\n",
       "      <td>3000000.0</td>\n",
       "    </tr>\n",
       "    <tr>\n",
       "      <th>November Allocation</th>\n",
       "      <td>0.0</td>\n",
       "      <td>3000000.0</td>\n",
       "      <td>0.0</td>\n",
       "      <td>1973321.396723</td>\n",
       "      <td>0.0</td>\n",
       "      <td>0.0</td>\n",
       "      <td>3000000.0</td>\n",
       "      <td>0.0</td>\n",
       "      <td>946642.793446</td>\n",
       "      <td>3000000.0</td>\n",
       "    </tr>\n",
       "    <tr>\n",
       "      <th>December Allocation</th>\n",
       "      <td>0.0</td>\n",
       "      <td>3000000.0</td>\n",
       "      <td>0.0</td>\n",
       "      <td>2049696.747367</td>\n",
       "      <td>0.0</td>\n",
       "      <td>0.0</td>\n",
       "      <td>3000000.0</td>\n",
       "      <td>0.0</td>\n",
       "      <td>1099393.494734</td>\n",
       "      <td>3000000.0</td>\n",
       "    </tr>\n",
       "  </tbody>\n",
       "</table>\n",
       "</div>"
      ],
      "text/plain": [
       "                         1          2    3               4         5   \\\n",
       "Platform              Print         TV  SEO         AdWords  Facebook   \n",
       "January Allocation      0.0  3000000.0  0.0       1000000.0       0.0   \n",
       "February Allocation     0.0  3000000.0  0.0       1180000.0       0.0   \n",
       "March Allocation        0.0  3000000.0  0.0       1353920.0       0.0   \n",
       "April Allocation        0.0  3000000.0  0.0  1505381.493333       0.0   \n",
       "May Allocation          0.0  3000000.0  0.0  1564985.535538       0.0   \n",
       "June Allocation         0.0  3000000.0  0.0  1629828.569939       0.0   \n",
       "July Allocation         0.0  3000000.0  0.0  1699708.760388       0.0   \n",
       "August Allocation       0.0  3000000.0  0.0  1773336.074769       0.0   \n",
       "September Allocation    0.0  3000000.0  0.0  1845758.356389       0.0   \n",
       "October Allocation      0.0  3000000.0  0.0  1908288.776302       0.0   \n",
       "November Allocation     0.0  3000000.0  0.0  1973321.396723       0.0   \n",
       "December Allocation     0.0  3000000.0  0.0  2049696.747367       0.0   \n",
       "\n",
       "                            6          7         8               9          10  \n",
       "Platform              LinkedIn  Instagram  Snapchat         Twitter      Email  \n",
       "January Allocation         0.0  3000000.0       0.0             0.0  3000000.0  \n",
       "February Allocation        0.0  3000000.0       0.0             0.0  3000000.0  \n",
       "March Allocation           0.0  3000000.0       0.0             0.0  3000000.0  \n",
       "April Allocation           0.0  3000000.0       0.0    10762.986667  3000000.0  \n",
       "May Allocation             0.0  3000000.0       0.0   129971.071076  3000000.0  \n",
       "June Allocation            0.0  3000000.0       0.0   259657.139878  3000000.0  \n",
       "July Allocation            0.0  3000000.0       0.0   399417.520776  3000000.0  \n",
       "August Allocation          0.0  3000000.0       0.0   546672.149538  3000000.0  \n",
       "September Allocation       0.0  3000000.0       0.0   691516.712778  3000000.0  \n",
       "October Allocation         0.0  3000000.0       0.0   816577.552605  3000000.0  \n",
       "November Allocation        0.0  3000000.0       0.0   946642.793446  3000000.0  \n",
       "December Allocation        0.0  3000000.0       0.0  1099393.494734  3000000.0  "
      ]
     },
     "execution_count": 27,
     "metadata": {},
     "output_type": "execute_result"
    }
   ],
   "source": [
    "monthly_allocation_df.T"
   ]
  },
  {
   "cell_type": "markdown",
   "id": "b3546fd6",
   "metadata": {},
   "source": [
    "**M-o-M allocation change for every platfrom is well below $1M, hence the allocation can be said to be a stable budget.**"
   ]
  }
 ],
 "metadata": {
  "kernelspec": {
   "display_name": "Python 3",
   "language": "python",
   "name": "python3"
  },
  "language_info": {
   "codemirror_mode": {
    "name": "ipython",
    "version": 3
   },
   "file_extension": ".py",
   "mimetype": "text/x-python",
   "name": "python",
   "nbconvert_exporter": "python",
   "pygments_lexer": "ipython3",
   "version": "3.8.8"
  }
 },
 "nbformat": 4,
 "nbformat_minor": 5
}
